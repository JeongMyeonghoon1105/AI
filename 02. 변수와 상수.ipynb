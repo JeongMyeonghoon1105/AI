{
 "cells": [
  {
   "cell_type": "markdown",
   "id": "35d6b8af",
   "metadata": {},
   "source": [
    "# 2. 변수와 상수"
   ]
  },
  {
   "cell_type": "code",
   "execution_count": 27,
   "id": "aa0b99ce",
   "metadata": {},
   "outputs": [],
   "source": [
    "import tensorflow as tf\n",
    "tf.compat.v1.disable_eager_execution()   # Tensorflow 버전 차이 때문에 생기는 오류 방지"
   ]
  },
  {
   "cell_type": "markdown",
   "id": "4f4b2a77",
   "metadata": {},
   "source": [
    "## 상수"
   ]
  },
  {
   "cell_type": "code",
   "execution_count": 23,
   "id": "94dc8809",
   "metadata": {},
   "outputs": [
    {
     "name": "stdout",
     "output_type": "stream",
     "text": [
      "3\n"
     ]
    }
   ],
   "source": [
    "# Tensor 생성\n",
    "a = tf.constant(1)\n",
    "b = tf.constant(2)\n",
    "c = tf.add(a, b)\n",
    "\n",
    "# Session 객체 생성\n",
    "sess = tf.compat.v1.Session()\n",
    "\n",
    "# Session 실행 및 결과 출력\n",
    "print(sess.run(c))"
   ]
  },
  {
   "cell_type": "markdown",
   "id": "2415b55f",
   "metadata": {},
   "source": [
    "## 변수"
   ]
  },
  {
   "cell_type": "code",
   "execution_count": 25,
   "id": "c85eb5b2",
   "metadata": {},
   "outputs": [
    {
     "name": "stdout",
     "output_type": "stream",
     "text": [
      "5\n"
     ]
    }
   ],
   "source": [
    "# Tensor 생성\n",
    "a = tf.Variable(3)\n",
    "b = tf.Variable(2)\n",
    "c = tf.add(a, b)\n",
    "\n",
    "# 변수 초기화용 객체 생성\n",
    "init = tf.compat.v1.global_variables_initializer()\n",
    "\n",
    "# Session 객체 생성\n",
    "sess = tf.compat.v1.Session()\n",
    "\n",
    "# 변수를 Tensorflow에 적용할 수 있는 형태로 초기화\n",
    "sess.run(init)\n",
    "\n",
    "# Session 실행 및 결과 출력\n",
    "print(sess.run(c))"
   ]
  },
  {
   "cell_type": "code",
   "execution_count": 26,
   "id": "cc1d3fa0",
   "metadata": {},
   "outputs": [
    {
     "name": "stdout",
     "output_type": "stream",
     "text": [
      "17\n"
     ]
    }
   ],
   "source": [
    "# 변수값 변경\n",
    "a = tf.Variable(15)\n",
    "\n",
    "# c Tensor 초기화\n",
    "c = tf.add(a, b)\n",
    "\n",
    "# 변수의 값이 변경될 때마다 초기화를 진행해야 함\n",
    "init = tf.compat.v1.global_variables_initializer()\n",
    "sess.run(init)\n",
    "\n",
    "# Session 실행 및 결과 출력\n",
    "print(sess.run(c))"
   ]
  }
 ],
 "metadata": {
  "kernelspec": {
   "display_name": "Python 3 (ipykernel)",
   "language": "python",
   "name": "python3"
  },
  "language_info": {
   "codemirror_mode": {
    "name": "ipython",
    "version": 3
   },
   "file_extension": ".py",
   "mimetype": "text/x-python",
   "name": "python",
   "nbconvert_exporter": "python",
   "pygments_lexer": "ipython3",
   "version": "3.10.2"
  }
 },
 "nbformat": 4,
 "nbformat_minor": 5
}
