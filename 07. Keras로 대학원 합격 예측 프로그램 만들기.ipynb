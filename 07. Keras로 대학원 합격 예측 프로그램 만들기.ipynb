{
 "cells": [
  {
   "cell_type": "markdown",
   "id": "1cc2b89d",
   "metadata": {},
   "source": [
    "# 7. Keras로 대학원 합격 예측 프로그램 만들기"
   ]
  },
  {
   "cell_type": "code",
   "execution_count": 28,
   "id": "cfe12e46",
   "metadata": {},
   "outputs": [],
   "source": [
    "import tensorflow as tf\n",
    "import pandas as pd\n",
    "import numpy as np\n",
    "import seaborn as sb\n",
    "import random\n",
    "tf.compat.v1.disable_eager_execution()"
   ]
  },
  {
   "cell_type": "code",
   "execution_count": 12,
   "id": "af4fa775",
   "metadata": {},
   "outputs": [],
   "source": [
    "import warnings\n",
    "warnings.filterwarnings(action = 'ignore')"
   ]
  },
  {
   "cell_type": "markdown",
   "id": "3fdd38b3",
   "metadata": {},
   "source": [
    "## 데이터 준비"
   ]
  },
  {
   "cell_type": "code",
   "execution_count": 30,
   "id": "5a9f5923",
   "metadata": {},
   "outputs": [],
   "source": [
    "df = pd.read_csv('Tables/data.csv')\n",
    "df = df.dropna()\n",
    "\n",
    "x = []\n",
    "y = []\n",
    "\n",
    "for i, rows in df.iterrows():\n",
    "    x.append([rows['gre'], rows['gpa'], rows['rank']])\n",
    "\n",
    "y = df['admit'].values"
   ]
  },
  {
   "cell_type": "markdown",
   "id": "8406a722",
   "metadata": {},
   "source": [
    "## 모델 구성 및 학습"
   ]
  },
  {
   "cell_type": "code",
   "execution_count": 25,
   "id": "4ed97858",
   "metadata": {},
   "outputs": [
    {
     "data": {
      "text/plain": [
       "<keras.callbacks.History at 0x14740ccd0>"
      ]
     },
     "execution_count": 25,
     "metadata": {},
     "output_type": "execute_result"
    }
   ],
   "source": [
    "# 레이어 생성\n",
    "model = tf.keras.models.Sequential([\n",
    "    tf.keras.layers.Dense(64, activation='tanh'),\n",
    "    tf.keras.layers.Dense(128, activation='tanh'),\n",
    "    tf.keras.layers.Dense(1, activation='sigmoid'),\n",
    "])\n",
    "\n",
    "# 컴파일\n",
    "model.compile(optimizer='adam', loss='binary_crossentropy', metrics=['accuracy'])\n",
    "\n",
    "model.fit(np.array(x), np.array(y), epochs=1000, verbose=0)"
   ]
  },
  {
   "cell_type": "markdown",
   "id": "0fa70d93",
   "metadata": {},
   "source": [
    "### Optimizer\n",
    "상황에 맞게 학습률 등을 조절해줌. 주로 adam, sgd 등을 사용\n",
    "\n",
    "### 비용함수(Loss Function, Cost Function)\n",
    "평균제곱오차 : mse   \n",
    "0~1 범위의 값을 예측할 때는 binary_crossentropy가 적절"
   ]
  },
  {
   "cell_type": "markdown",
   "id": "ec64b264",
   "metadata": {},
   "source": [
    "## 예측"
   ]
  },
  {
   "cell_type": "code",
   "execution_count": 27,
   "id": "8c8fc822",
   "metadata": {},
   "outputs": [
    {
     "name": "stdout",
     "output_type": "stream",
     "text": [
      "0.9018811\n"
     ]
    }
   ],
   "source": [
    "for i in model.predict(np.array([[950, 4.20, 4]])):\n",
    "    for j in i:\n",
    "        print(j)"
   ]
  }
 ],
 "metadata": {
  "kernelspec": {
   "display_name": "Python 3 (ipykernel)",
   "language": "python",
   "name": "python3"
  },
  "language_info": {
   "codemirror_mode": {
    "name": "ipython",
    "version": 3
   },
   "file_extension": ".py",
   "mimetype": "text/x-python",
   "name": "python",
   "nbconvert_exporter": "python",
   "pygments_lexer": "ipython3",
   "version": "3.10.2"
  }
 },
 "nbformat": 4,
 "nbformat_minor": 5
}
