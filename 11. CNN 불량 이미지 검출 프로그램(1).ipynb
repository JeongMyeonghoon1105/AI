{
 "cells": [
  {
   "cell_type": "markdown",
   "id": "b1c7e6d0",
   "metadata": {},
   "source": [
    "# 11. CNN 불량 이미지 검출 프로그램(1)"
   ]
  },
  {
   "cell_type": "code",
   "execution_count": 53,
   "id": "cd7786c2",
   "metadata": {},
   "outputs": [],
   "source": [
    "import tensorflow as tf\n",
    "import pandas as pd\n",
    "import numpy as np\n",
    "import cv2\n",
    "from keras.models import load_model\n",
    "tf.compat.v1.disable_eager_execution()"
   ]
  },
  {
   "cell_type": "code",
   "execution_count": 54,
   "id": "d403e4ae",
   "metadata": {},
   "outputs": [],
   "source": [
    "import warnings\n",
    "warnings.filterwarnings(action = 'ignore')"
   ]
  },
  {
   "cell_type": "markdown",
   "id": "73439d07",
   "metadata": {},
   "source": [
    "## 데이터 준비"
   ]
  },
  {
   "cell_type": "code",
   "execution_count": 55,
   "id": "2bd5360b",
   "metadata": {},
   "outputs": [
    {
     "name": "stdout",
     "output_type": "stream",
     "text": [
      "이미지 로드 완료.\n"
     ]
    }
   ],
   "source": [
    "x = []\n",
    "y = []\n",
    "\n",
    "for i in range(0, 10):\n",
    "    for j in range(0, 30):\n",
    "        path = 'CNN/Train/Original.jpg'\n",
    "        x.append(np.resize(cv2.imread(path, cv2.IMREAD_COLOR), (216, 215, 3)))\n",
    "\n",
    "    for j in range(60, 90):\n",
    "        path = 'CNN/Train/Star' + str(j + 1) + '.jpg'\n",
    "        x.append(np.resize(cv2.imread(path, cv2.IMREAD_COLOR), (216, 215, 3)))\n",
    "\n",
    "for i in range(0, 10):\n",
    "    for j in range(0, 30):\n",
    "        y.append(0)\n",
    "    for j in range(0, 30):\n",
    "        y.append(1)\n",
    "\n",
    "x = np.array(x)\n",
    "y = np.array(y)\n",
    "\n",
    "print('이미지 로드 완료.')"
   ]
  },
  {
   "cell_type": "markdown",
   "id": "6b60778c",
   "metadata": {},
   "source": [
    "## 모델 구성 및 학습"
   ]
  },
  {
   "cell_type": "code",
   "execution_count": 56,
   "id": "c74fd251",
   "metadata": {},
   "outputs": [
    {
     "name": "stdout",
     "output_type": "stream",
     "text": [
      "Train on 600 samples\n",
      "Epoch 1/20\n",
      "600/600 [==============================] - 45s 76ms/sample - loss: 217.4126 - accuracy: 0.5583\n",
      "Epoch 2/20\n",
      "600/600 [==============================] - 48s 81ms/sample - loss: 1.8077 - accuracy: 0.5783\n",
      "Epoch 3/20\n",
      "600/600 [==============================] - 46s 77ms/sample - loss: 0.5916 - accuracy: 0.6333\n",
      "Epoch 4/20\n",
      "600/600 [==============================] - 53s 88ms/sample - loss: 0.5566 - accuracy: 0.6333\n",
      "Epoch 5/20\n",
      "600/600 [==============================] - 50s 83ms/sample - loss: 0.5136 - accuracy: 0.8300\n",
      "Epoch 6/20\n",
      "600/600 [==============================] - 49s 82ms/sample - loss: 0.4505 - accuracy: 0.9500\n",
      "Epoch 7/20\n",
      "600/600 [==============================] - 45s 75ms/sample - loss: 0.3931 - accuracy: 0.9433\n",
      "Epoch 8/20\n",
      "600/600 [==============================] - 24s 40ms/sample - loss: 0.3304 - accuracy: 1.0000\n",
      "Epoch 9/20\n",
      "600/600 [==============================] - 25s 41ms/sample - loss: 0.2743 - accuracy: 0.9733\n",
      "Epoch 10/20\n",
      "600/600 [==============================] - 24s 40ms/sample - loss: 0.2187 - accuracy: 1.0000\n",
      "Epoch 11/20\n",
      "600/600 [==============================] - 25s 41ms/sample - loss: 0.1815 - accuracy: 1.0000\n",
      "Epoch 12/20\n",
      "600/600 [==============================] - 24s 39ms/sample - loss: 0.1506 - accuracy: 1.0000\n",
      "Epoch 13/20\n",
      "600/600 [==============================] - 24s 40ms/sample - loss: 0.1146 - accuracy: 1.0000\n",
      "Epoch 14/20\n",
      "600/600 [==============================] - 24s 40ms/sample - loss: 0.0946 - accuracy: 1.0000\n",
      "Epoch 15/20\n",
      "600/600 [==============================] - 24s 40ms/sample - loss: 0.0739 - accuracy: 1.0000\n",
      "Epoch 16/20\n",
      "600/600 [==============================] - 25s 41ms/sample - loss: 0.0630 - accuracy: 1.0000\n",
      "Epoch 17/20\n",
      "600/600 [==============================] - 30s 50ms/sample - loss: 0.0527 - accuracy: 1.0000\n",
      "Epoch 18/20\n",
      "600/600 [==============================] - 32s 53ms/sample - loss: 0.0466 - accuracy: 1.0000\n",
      "Epoch 19/20\n",
      "600/600 [==============================] - 34s 56ms/sample - loss: 0.0390 - accuracy: 1.0000\n",
      "Epoch 20/20\n",
      "600/600 [==============================] - 32s 53ms/sample - loss: 0.0319 - accuracy: 1.0000\n"
     ]
    },
    {
     "data": {
      "text/plain": [
       "<keras.callbacks.History at 0x14ef27f70>"
      ]
     },
     "execution_count": 56,
     "metadata": {},
     "output_type": "execute_result"
    }
   ],
   "source": [
    "# 모델 구성\n",
    "model = tf.keras.models.Sequential([\n",
    "    tf.keras.layers.Conv2D(32, kernel_size=(3, 3), activation='relu', input_shape=(216, 215, 3)),\n",
    "    tf.keras.layers.MaxPooling2D(pool_size=(2, 2)),\n",
    "    tf.keras.layers.Conv2D(32, kernel_size=(3, 3), activation='relu', input_shape=(216, 215, 3)),\n",
    "    tf.keras.layers.MaxPooling2D(pool_size=(2, 2)),\n",
    "    tf.keras.layers.Flatten(),\n",
    "    tf.keras.layers.Dense(256, activation='relu'),\n",
    "    tf.keras.layers.Dense(2, activation='softmax')\n",
    "])\n",
    "\n",
    "# model.summary()\n",
    "\n",
    "# 가중치 저장\n",
    "model.save_weights('CNN/Model/model')\n",
    "\n",
    "# 모델 컴파일\n",
    "model.compile(optimizer='adam', loss='sparse_categorical_crossentropy', metrics=['accuracy'])\n",
    "\n",
    "# 학습\n",
    "model.fit(np.array(x), np.array(y), epochs=20, verbose=1)"
   ]
  },
  {
   "cell_type": "markdown",
   "id": "249be880",
   "metadata": {},
   "source": [
    "## 예측 결과 출력"
   ]
  },
  {
   "cell_type": "code",
   "execution_count": 59,
   "id": "0949c0a0",
   "metadata": {},
   "outputs": [
    {
     "name": "stdout",
     "output_type": "stream",
     "text": [
      "[0.04979501 0.95020497]\n",
      "\n",
      "별 모양의 불량이 감지되었습니다.\n"
     ]
    }
   ],
   "source": [
    "img = np.resize(cv2.imread('CNN/Test/Star.jpg', cv2.IMREAD_COLOR), (216, 215, 3))\n",
    "\n",
    "inputData = []\n",
    "inputData.append(img)\n",
    "\n",
    "for array in model.predict(np.array(inputData)):\n",
    "    arr = array\n",
    "\n",
    "print(arr)\n",
    "\n",
    "maxScore = max(arr)\n",
    "\n",
    "for index, score in enumerate(arr):\n",
    "    if score == maxScore:\n",
    "        result = index\n",
    "\n",
    "if result == 0:\n",
    "    print('\\n정상 이미지입니다.')\n",
    "else:\n",
    "    print('\\n별 모양의 불량이 감지되었습니다.')"
   ]
  }
 ],
 "metadata": {
  "kernelspec": {
   "display_name": "Python 3 (ipykernel)",
   "language": "python",
   "name": "python3"
  },
  "language_info": {
   "codemirror_mode": {
    "name": "ipython",
    "version": 3
   },
   "file_extension": ".py",
   "mimetype": "text/x-python",
   "name": "python",
   "nbconvert_exporter": "python",
   "pygments_lexer": "ipython3",
   "version": "3.10.2"
  }
 },
 "nbformat": 4,
 "nbformat_minor": 5
}
