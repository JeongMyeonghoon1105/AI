{
 "cells": [
  {
   "cell_type": "markdown",
   "id": "93edd971",
   "metadata": {},
   "source": [
    "# 6. 선형회귀를 이용한 예측 프로그램"
   ]
  },
  {
   "cell_type": "code",
   "execution_count": 2,
   "id": "5d98c161",
   "metadata": {},
   "outputs": [],
   "source": [
    "import tensorflow as tf\n",
    "import pandas as pd\n",
    "import seaborn as sb\n",
    "import math\n",
    "tf.compat.v1.disable_eager_execution()   # Tensorflow 버전 차이 때문에 생기는 오류 방지"
   ]
  },
  {
   "cell_type": "code",
   "execution_count": 3,
   "id": "0c55527c",
   "metadata": {},
   "outputs": [],
   "source": [
    "import warnings\n",
    "warnings.filterwarnings(action = 'ignore')"
   ]
  },
  {
   "cell_type": "markdown",
   "id": "ae6d4271",
   "metadata": {},
   "source": [
    "## 데이터 설정\n",
    "가게 주인의 근로 시간과 매출액을 데이터 프레임 형태로 표현"
   ]
  },
  {
   "cell_type": "code",
   "execution_count": 4,
   "id": "618d54ed",
   "metadata": {},
   "outputs": [],
   "source": [
    "sales = [[1, 20000], [2, 36000], [3, 64000], [4, 84000], [5, 100000], [6, 116000], [7, 140000]]\n",
    "\n",
    "df = pd.DataFrame(sales, columns = ['Hours', 'Sales'])"
   ]
  },
  {
   "cell_type": "code",
   "execution_count": 5,
   "id": "5f570d92",
   "metadata": {},
   "outputs": [
    {
     "data": {
      "text/html": [
       "<div>\n",
       "<style scoped>\n",
       "    .dataframe tbody tr th:only-of-type {\n",
       "        vertical-align: middle;\n",
       "    }\n",
       "\n",
       "    .dataframe tbody tr th {\n",
       "        vertical-align: top;\n",
       "    }\n",
       "\n",
       "    .dataframe thead th {\n",
       "        text-align: right;\n",
       "    }\n",
       "</style>\n",
       "<table border=\"1\" class=\"dataframe\">\n",
       "  <thead>\n",
       "    <tr style=\"text-align: right;\">\n",
       "      <th></th>\n",
       "      <th>Hours</th>\n",
       "      <th>Sales</th>\n",
       "    </tr>\n",
       "  </thead>\n",
       "  <tbody>\n",
       "    <tr>\n",
       "      <th>0</th>\n",
       "      <td>1</td>\n",
       "      <td>20000</td>\n",
       "    </tr>\n",
       "    <tr>\n",
       "      <th>1</th>\n",
       "      <td>2</td>\n",
       "      <td>36000</td>\n",
       "    </tr>\n",
       "    <tr>\n",
       "      <th>2</th>\n",
       "      <td>3</td>\n",
       "      <td>64000</td>\n",
       "    </tr>\n",
       "    <tr>\n",
       "      <th>3</th>\n",
       "      <td>4</td>\n",
       "      <td>84000</td>\n",
       "    </tr>\n",
       "    <tr>\n",
       "      <th>4</th>\n",
       "      <td>5</td>\n",
       "      <td>100000</td>\n",
       "    </tr>\n",
       "    <tr>\n",
       "      <th>5</th>\n",
       "      <td>6</td>\n",
       "      <td>116000</td>\n",
       "    </tr>\n",
       "    <tr>\n",
       "      <th>6</th>\n",
       "      <td>7</td>\n",
       "      <td>140000</td>\n",
       "    </tr>\n",
       "  </tbody>\n",
       "</table>\n",
       "</div>"
      ],
      "text/plain": [
       "   Hours   Sales\n",
       "0      1   20000\n",
       "1      2   36000\n",
       "2      3   64000\n",
       "3      4   84000\n",
       "4      5  100000\n",
       "5      6  116000\n",
       "6      7  140000"
      ]
     },
     "execution_count": 5,
     "metadata": {},
     "output_type": "execute_result"
    }
   ],
   "source": [
    "df"
   ]
  },
  {
   "cell_type": "markdown",
   "id": "f2725ced",
   "metadata": {},
   "source": [
    "## 데이터 시각화"
   ]
  },
  {
   "cell_type": "code",
   "execution_count": 6,
   "id": "6624794d",
   "metadata": {},
   "outputs": [
    {
     "data": {
      "text/plain": [
       "<seaborn.axisgrid.FacetGrid at 0x1487966b0>"
      ]
     },
     "execution_count": 6,
     "metadata": {},
     "output_type": "execute_result"
    },
    {
     "data": {
      "image/png": "[encoded data removed]",
      "text/plain": [
       "<Figure size 360x360 with 1 Axes>"
      ]
     },
     "metadata": {
      "needs_background": "light"
     },
     "output_type": "display_data"
    }
   ],
   "source": [
    "sb.lmplot('Hours', 'Sales', data = df, fit_reg = True, scatter_kws = {\"s\" : 50}, line_kws = {\"lw\" : 3, 'color': '#FF6347'})"
   ]
  },
  {
   "cell_type": "markdown",
   "id": "b30c7668",
   "metadata": {},
   "source": [
    "## 선형 회귀의 개념\n",
    "* 위의 시각화 결과에서 확인할 수 있듯, 앞서 입력한 근로 시간과 매출액 데이터는 선형적.\n",
    "* 선형 회귀 모델 구축이란, 주어진 데이터를 학습시켜 가장 합리적인 직선($y = ax + b$)을 찾아내는 것.\n",
    "* 선형 회귀 모델 구축에는 아무리 적어도 3개 이상의 데이터가 필요.\n",
    "* 선형 회귀에서의 학습이란 주어진 데이터를 이용해 일차함수를 합리적으로 다듬어 나가는 것."
   ]
  },
  {
   "cell_type": "markdown",
   "id": "dd5bb32c",
   "metadata": {},
   "source": [
    "## 비용함수\n",
    "> $(비용함수) = (예측 값 - 실제 값)^2$\n",
    "* 1회 학습할 때마다 각 데이터의 비용함수를 구하여 이를 평균냄.\n",
    "* 학습을 많이 반복하여 각 데이터의 비용함수 평균을 줄여나가는 방향으로 일차함수를 수정해 합리적인 회귀식 도출."
   ]
  },
  {
   "cell_type": "markdown",
   "id": "b4ca6619",
   "metadata": {},
   "source": [
    "## 경사하강\n",
    "> 비용함수 : $C(W) = ((Wx + b) - y)^2$   \n",
    "* 극솟값, 즉 비용함수가 최솟값인 점이 목표 지점.\n",
    "* 학습을 시작할 때 임의의 W값을 잡고(난수 생성 함수 이용) 학습 시작.\n",
    "* 학습을 진행하며 목표 지점에 가까워지도록 W의 값을 수정해나감.\n",
    "* W값을 같은 폭으로 수정한다 하더라도, 극솟값에 가까워질수록 비용함수의 변화량이 작음.\n",
    "* 극솟값에 가까워질수록 미분계수가 작아지기 때문.\n",
    "* 즉, 이차곡선의 특성상 초반에 많은 폭으로 변화함.\n",
    "* 텐서플로우는 경사하강 라이브러리를 제공.\n",
    "* 어느 정도 폭으로 수정할 지(Learning Rate)를 결정하는 것도 중요한 문제."
   ]
  },
  {
   "cell_type": "markdown",
   "id": "a1fb9142",
   "metadata": {},
   "source": [
    "## 학습률(Learning Rate)\n",
    "> $W_n = W_{n-1} - a \\times C'(W_{n-1})$\n",
    "* 위 수식에서 a가 학습률.\n",
    "* 학습률은 불변이지만, 학습이 진행될수록 비용함수의 값이 점점 작아지므로 $\\Delta W$의 값도 점점 작아짐."
   ]
  },
  {
   "cell_type": "markdown",
   "id": "63b08b35",
   "metadata": {},
   "source": [
    "## 학습\n",
    "선형 데이터들을 잇는 $H(x) = Wx + b$ 꼴의 일차식의 일차계수와 상수항을 찾아내는 과정"
   ]
  },
  {
   "cell_type": "code",
   "execution_count": 13,
   "id": "9dab33bc",
   "metadata": {},
   "outputs": [
    {
     "name": "stdout",
     "output_type": "stream",
     "text": [
      "[8037.0312]\n",
      "[19304.629]\n",
      "[19401.428]\n",
      "[19481.266]\n",
      "[19547.117]\n",
      "[19601.43]\n",
      "[19646.229]\n",
      "[19683.18]\n",
      "[19713.658]\n",
      "[19738.795]\n",
      "[19759.53]\n",
      "[19776.63]\n",
      "[19790.736]\n",
      "[19802.37]\n",
      "[19811.965]\n",
      "[19819.88]\n",
      "[19826.408]\n",
      "[19831.791]\n",
      "[19836.232]\n",
      "[19839.896]\n",
      "[19842.916]\n",
      "[19845.408]\n",
      "[19847.465]\n",
      "[19849.16]\n",
      "[19850.557]\n",
      "[19851.713]\n",
      "[19852.662]\n",
      "[19853.447]\n",
      "[19854.094]\n",
      "[19854.627]\n",
      "[19855.068]\n",
      "[19855.432]\n",
      "[19855.732]\n",
      "[19855.979]\n",
      "[19856.184]\n",
      "[19856.352]\n",
      "[19856.49]\n",
      "[19856.602]\n",
      "[19856.7]\n",
      "[19856.777]\n",
      "[19856.842]\n",
      "[19856.895]\n",
      "[19856.938]\n",
      "[19856.973]\n",
      "[19857.002]\n",
      "[19857.025]\n",
      "[19857.047]\n",
      "[19857.062]\n",
      "[19857.074]\n",
      "[19857.086]\n",
      "[19857.096]\n",
      "[19857.102]\n",
      "[19857.11]\n",
      "[19857.113]\n",
      "[19857.117]\n",
      "[19857.121]\n",
      "[19857.123]\n",
      "[19857.125]\n",
      "[19857.127]\n",
      "[19857.127]\n",
      "[19857.13]\n",
      "[19857.13]\n",
      "[19857.13]\n",
      "[19857.13]\n",
      "[19857.13]\n",
      "[19857.13]\n",
      "[19857.13]\n",
      "[19857.13]\n",
      "[19857.13]\n",
      "[19857.13]\n",
      "[19857.13]\n",
      "[19857.13]\n",
      "[19857.13]\n",
      "[19857.13]\n",
      "[19857.13]\n",
      "[19857.13]\n",
      "[19857.13]\n",
      "[19857.13]\n",
      "[19857.13]\n",
      "[19857.13]\n",
      "[19857.13]\n",
      "[19857.13]\n",
      "[19857.13]\n",
      "[19857.13]\n",
      "[19857.13]\n",
      "[19857.13]\n",
      "[19857.13]\n",
      "[19857.13]\n",
      "[19857.13]\n",
      "[19857.13]\n",
      "[19857.13]\n",
      "[19857.13]\n",
      "[19857.13]\n",
      "[19857.13]\n",
      "[19857.13]\n",
      "[19857.13]\n",
      "[19857.13]\n",
      "[19857.13]\n",
      "[19857.13]\n",
      "[19857.13]\n",
      "[19857.13]\n"
     ]
    }
   ],
   "source": [
    "# 1차 계수(가중치) 초기값 설정(난수)\n",
    "W = tf.Variable(tf.random.uniform([1], -100, 100))\n",
    "\n",
    "# 상수항(y절편) 초기값 설정(난수)\n",
    "b = tf.Variable(tf.random.uniform([1], -100, 100))\n",
    "\n",
    "# Placeholder 생성\n",
    "x = tf.compat.v1.placeholder(dtype = tf.float32)\n",
    "y = tf.compat.v1.placeholder(dtype = tf.float32)\n",
    "\n",
    "# 일차식 정의\n",
    "H = W * x + b\n",
    "\n",
    "# 비용함수 정의(예측치와 실제값의 차를 제곱한 값의 평균)\n",
    "cost = tf.reduce_mean(tf.square(H - y))\n",
    "\n",
    "# 학습률 결정\n",
    "learning_rate = tf.Variable(0.01)\n",
    "\n",
    "# 경사하강 라이브러리 이용\n",
    "optimizer = tf.compat.v1.train.GradientDescentOptimizer(learning_rate)\n",
    "\n",
    "# 비용함수를 최소화하는 방향으로 학습하도록 설정\n",
    "train = optimizer.minimize(cost)\n",
    "\n",
    "# 변수 초기화용 객체 생성\n",
    "init = tf.compat.v1.global_variables_initializer()\n",
    "\n",
    "# Session 객체 생성\n",
    "sess = tf.compat.v1.Session()\n",
    "\n",
    "# 변수를 Tensorflow에 적용할 수 있는 형태로 초기화\n",
    "sess.run(init)\n",
    "\n",
    "# 학습 진행(Feeding)\n",
    "for i in range(5001):\n",
    "    sess.run(train, feed_dict = {x : df['Hours'], y : df['Sales']})\n",
    "    if i % 50 == 0:\n",
    "        print(sess.run(W))"
   ]
  },
  {
   "cell_type": "markdown",
   "id": "17f87a86",
   "metadata": {},
   "source": [
    "## 결과 출력"
   ]
  },
  {
   "cell_type": "code",
   "execution_count": 9,
   "id": "001832f8",
   "metadata": {},
   "outputs": [
    {
     "name": "stdout",
     "output_type": "stream",
     "text": [
      "예측결과 : 397714.1\n",
      "H(x) = 19857.13 * x + 571.4775\n"
     ]
    }
   ],
   "source": [
    "# 실행 결과로 반환되는 객체에서 숫자 추출\n",
    "result = 0; weight = 0; bias = 0\n",
    "for i in sess.run(H, feed_dict = {x : [20]}):\n",
    "    result = i\n",
    "for i in sess.run(W):\n",
    "    weight = i\n",
    "for i in sess.run(b):\n",
    "    bias = i\n",
    "\n",
    "# 예측결과와 회귀식 출력\n",
    "print(\"예측결과 :\", end = ' '); print(result)\n",
    "print(\"H(x) =\", end = ' '); print(weight, end = ' ')\n",
    "print(\"* x +\", end = ' '); print(bias)"
   ]
  }
 ],
 "metadata": {
  "kernelspec": {
   "display_name": "Python 3 (ipykernel)",
   "language": "python",
   "name": "python3"
  },
  "language_info": {
   "codemirror_mode": {
    "name": "ipython",
    "version": 3
   },
   "file_extension": ".py",
   "mimetype": "text/x-python",
   "name": "python",
   "nbconvert_exporter": "python",
   "pygments_lexer": "ipython3",
   "version": "3.10.2"
  }
 },
 "nbformat": 4,
 "nbformat_minor": 5
}
