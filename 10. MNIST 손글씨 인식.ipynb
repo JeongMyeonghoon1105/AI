{
 "cells": [
  {
   "cell_type": "markdown",
   "id": "f8914b29",
   "metadata": {},
   "source": [
    "# 10. MNIST 손글씨 인식"
   ]
  },
  {
   "cell_type": "code",
   "execution_count": 63,
   "id": "ac2fa495",
   "metadata": {},
   "outputs": [],
   "source": [
    "import tensorflow as tf\n",
    "import numpy as np\n",
    "import os\n",
    "import cv2\n",
    "from PIL import Image\n",
    "import matplotlib.pylab as plt"
   ]
  },
  {
   "cell_type": "markdown",
   "id": "d01da413",
   "metadata": {},
   "source": [
    "## 데이터 준비"
   ]
  },
  {
   "cell_type": "code",
   "execution_count": 64,
   "id": "11143370",
   "metadata": {},
   "outputs": [],
   "source": [
    "# MNIST 데이터셋 임포트\n",
    "mnist = tf.keras.datasets.mnist\n",
    "(x_train, y_train), (x_test, y_test) = mnist.load_data()\n",
    "\n",
    "# 데이터 전처리\n",
    "x_train = x_train/255.0\n",
    "x_test = x_test/255.0"
   ]
  },
  {
   "cell_type": "markdown",
   "id": "2d58b38f",
   "metadata": {},
   "source": [
    "## 모델 구성 및 학습"
   ]
  },
  {
   "cell_type": "code",
   "execution_count": 65,
   "id": "42d3dd8e",
   "metadata": {},
   "outputs": [
    {
     "name": "stdout",
     "output_type": "stream",
     "text": [
      "Epoch 1/20\n",
      "1875/1875 [==============================] - 38s 19ms/step - loss: 0.2018 - accuracy: 0.9393\n",
      "Epoch 2/20\n",
      "1875/1875 [==============================] - 32s 17ms/step - loss: 0.0953 - accuracy: 0.9719\n",
      "Epoch 3/20\n",
      "1875/1875 [==============================] - 32s 17ms/step - loss: 0.0682 - accuracy: 0.9795\n",
      "Epoch 4/20\n",
      "1875/1875 [==============================] - 32s 17ms/step - loss: 0.0579 - accuracy: 0.9823\n",
      "Epoch 5/20\n",
      "1875/1875 [==============================] - 34s 18ms/step - loss: 0.0437 - accuracy: 0.9870\n",
      "Epoch 6/20\n",
      "1875/1875 [==============================] - 34s 18ms/step - loss: 0.0425 - accuracy: 0.9876\n",
      "Epoch 7/20\n",
      "1875/1875 [==============================] - 35s 19ms/step - loss: 0.0358 - accuracy: 0.9892\n",
      "Epoch 8/20\n",
      "1875/1875 [==============================] - 32s 17ms/step - loss: 0.0306 - accuracy: 0.9909\n",
      "Epoch 9/20\n",
      "1875/1875 [==============================] - 32s 17ms/step - loss: 0.0298 - accuracy: 0.9912\n",
      "Epoch 10/20\n",
      "1875/1875 [==============================] - 32s 17ms/step - loss: 0.0272 - accuracy: 0.9921\n",
      "Epoch 11/20\n",
      "1875/1875 [==============================] - 32s 17ms/step - loss: 0.0266 - accuracy: 0.9923\n",
      "Epoch 12/20\n",
      "1875/1875 [==============================] - 32s 17ms/step - loss: 0.0253 - accuracy: 0.9932\n",
      "Epoch 13/20\n",
      "1875/1875 [==============================] - 32s 17ms/step - loss: 0.0244 - accuracy: 0.9937\n",
      "Epoch 14/20\n",
      "1875/1875 [==============================] - 32s 17ms/step - loss: 0.0215 - accuracy: 0.9944\n",
      "Epoch 15/20\n",
      "1875/1875 [==============================] - 20s 10ms/step - loss: 0.0212 - accuracy: 0.9942\n",
      "Epoch 16/20\n",
      "1875/1875 [==============================] - 31s 17ms/step - loss: 0.0220 - accuracy: 0.9944\n",
      "Epoch 17/20\n",
      "1875/1875 [==============================] - 33s 18ms/step - loss: 0.0193 - accuracy: 0.9952\n",
      "Epoch 18/20\n",
      "1875/1875 [==============================] - 24s 13ms/step - loss: 0.0188 - accuracy: 0.9951\n",
      "Epoch 19/20\n",
      "1875/1875 [==============================] - 26s 14ms/step - loss: 0.0169 - accuracy: 0.9958\n",
      "Epoch 20/20\n",
      "1875/1875 [==============================] - 25s 13ms/step - loss: 0.0206 - accuracy: 0.9949\n",
      "313/313 [==============================] - 2s 6ms/step - loss: 0.1491 - accuracy: 0.9783\n",
      "\n",
      "정확도 :  0.9782999753952026\n"
     ]
    }
   ],
   "source": [
    "# 모델 구성\n",
    "model = tf.keras.models.Sequential([\n",
    "    # 28 X 28 pixel의 손글씨 데이터를 1차원 벡터 데이터로 변형(Flatten)\n",
    "    tf.keras.layers.Flatten(input_shape=(28, 28)),\n",
    "    tf.keras.layers.Dense(256, activation='relu'),\n",
    "    tf.keras.layers.Dense(512, activation='relu'),\n",
    "    tf.keras.layers.Dense(1024, activation='relu'),\n",
    "    tf.keras.layers.Dense(10, activation='softmax')\n",
    "])\n",
    "\n",
    "# 모델 컴파일\n",
    "model.compile(optimizer='adam', loss='sparse_categorical_crossentropy', metrics=['accuracy'])\n",
    "\n",
    "# 학습\n",
    "model.fit(x_train, y_train, epochs=20, verbose=1)\n",
    "\n",
    "# 정확도 평가\n",
    "test_loss, test_acc = model.evaluate(x_test, y_test)\n",
    "print('\\n정확도 : ', test_acc)"
   ]
  },
  {
   "cell_type": "markdown",
   "id": "70f126be",
   "metadata": {},
   "source": [
    "## 손글씨 이미지 불러오기\n",
    "MNIST 디렉토리 내에 저장한 손글씨 이미지를 로드"
   ]
  },
  {
   "cell_type": "code",
   "execution_count": 66,
   "id": "1112c65f",
   "metadata": {},
   "outputs": [
    {
     "name": "stdout",
     "output_type": "stream",
     "text": [
      "6.jpeg\n",
      "7.jpeg\n",
      "4.jpeg\n",
      "3.png\n"
     ]
    }
   ],
   "source": [
    "# 불러올 이미지들을 저장할 리스트\n",
    "img = []\n",
    "\n",
    "# 이미지들의 파일명들을 저장할 리스트\n",
    "imageNames = []\n",
    "\n",
    "# 이미지 불러오기\n",
    "for i, imageName in enumerate(os.listdir('MNIST/')):\n",
    "    if imageName != '.DS_Store':\n",
    "        # 불러올 이미지의 경로를 변수에 저장\n",
    "        path = 'MNIST/' + imageName\n",
    "\n",
    "        # 이미지 불러오기\n",
    "        img.append(cv2.imread(path, cv2.IMREAD_GRAYSCALE))\n",
    "\n",
    "        # 불러온 이미지의 파일명을 리스트에 저장\n",
    "        imageNames.append(imageName)\n",
    "\n",
    "for i in imageNames:\n",
    "    print(i)"
   ]
  },
  {
   "cell_type": "markdown",
   "id": "a8bdcfa2",
   "metadata": {},
   "source": [
    "## 이미지 Resize\n",
    "28 X 28 Pixel에 맞게 조정"
   ]
  },
  {
   "cell_type": "code",
   "execution_count": 67,
   "id": "b69f643b",
   "metadata": {},
   "outputs": [],
   "source": [
    "for i, image in enumerate(img):\n",
    "    img[i] = cv2.resize(image, dsize=(28, 28), interpolation=cv2.INTER_CUBIC)"
   ]
  },
  {
   "cell_type": "markdown",
   "id": "95ddc675",
   "metadata": {},
   "source": [
    "## 이미지 출력"
   ]
  },
  {
   "cell_type": "code",
   "execution_count": 41,
   "id": "efef30e2",
   "metadata": {},
   "outputs": [
    {
     "data": {
      "image/png": "[encoded data removed]",
      "text/plain": [
       "<Figure size 2160x2160 with 1 Axes>"
      ]
     },
     "metadata": {
      "needs_background": "light"
     },
     "output_type": "display_data"
    },
    {
     "data": {
      "image/png": "[encoded data removed]",
      "text/plain": [
       "<Figure size 2160x2160 with 1 Axes>"
      ]
     },
     "metadata": {
      "needs_background": "light"
     },
     "output_type": "display_data"
    },
    {
     "data": {
      "image/png": "[encoded data removed]",
      "text/plain": [
       "<Figure size 2160x2160 with 1 Axes>"
      ]
     },
     "metadata": {
      "needs_background": "light"
     },
     "output_type": "display_data"
    },
    {
     "data": {
      "image/png": "[encoded data removed]",
      "text/plain": [
       "<Figure size 2160x2160 with 1 Axes>"
      ]
     },
     "metadata": {
      "needs_background": "light"
     },
     "output_type": "display_data"
    }
   ],
   "source": [
    "for i, img in enumerate(img):\n",
    "    plt.figure(figsize=(30, 30))\n",
    "    plt.subplot(1, len(img), i+1)\n",
    "    plt.axis('off')\n",
    "    plt.imshow(img[:, :])"
   ]
  },
  {
   "cell_type": "markdown",
   "id": "8417b8f3",
   "metadata": {},
   "source": [
    "## 이미지 Reshape"
   ]
  },
  {
   "cell_type": "code",
   "execution_count": 68,
   "id": "43a0ba42",
   "metadata": {},
   "outputs": [],
   "source": [
    "for i, image in enumerate(img):\n",
    "    img[i] = image.reshape((-1, 28, 28))"
   ]
  },
  {
   "cell_type": "markdown",
   "id": "83e0bffe",
   "metadata": {},
   "source": [
    "## 이미지 Shape 확인"
   ]
  },
  {
   "cell_type": "code",
   "execution_count": 69,
   "id": "4c210cc9",
   "metadata": {},
   "outputs": [
    {
     "name": "stdout",
     "output_type": "stream",
     "text": [
      "(1, 28, 28)\n",
      "(1, 28, 28)\n",
      "(1, 28, 28)\n",
      "(1, 28, 28)\n"
     ]
    }
   ],
   "source": [
    "for i in img:\n",
    "    print(i.shape)"
   ]
  },
  {
   "cell_type": "markdown",
   "id": "d80af0de",
   "metadata": {},
   "source": [
    "## 예측 결과 출력"
   ]
  },
  {
   "cell_type": "code",
   "execution_count": 70,
   "id": "6a41df45",
   "metadata": {},
   "outputs": [
    {
     "name": "stdout",
     "output_type": "stream",
     "text": [
      "[0. 0. 0. 0. 0. 0. 1. 0. 0. 0.]\n",
      "[0. 0. 0. 0. 0. 0. 0. 1. 0. 0.]\n",
      "[0. 0. 0. 0. 1. 0. 0. 0. 0. 0.]\n",
      "[0. 0. 0. 1. 0. 0. 0. 0. 0. 0.]\n"
     ]
    }
   ],
   "source": [
    "for i in img:\n",
    "    for arr in model.predict(i):\n",
    "        print(arr)"
   ]
  },
  {
   "cell_type": "code",
   "execution_count": 71,
   "id": "e4d3bca2",
   "metadata": {},
   "outputs": [
    {
     "name": "stdout",
     "output_type": "stream",
     "text": [
      "정답 : 6.jpeg\t예측값 : 6\n",
      "정답 : 7.jpeg\t예측값 : 7\n",
      "정답 : 4.jpeg\t예측값 : 4\n",
      "정답 : 3.png\t예측값 : 3\n"
     ]
    }
   ],
   "source": [
    "for imgIndex, i in enumerate(img):\n",
    "    print('정답 : ' + imageNames[imgIndex], end = '\\t')\n",
    "    for arr in model.predict(i):\n",
    "        for j, num in enumerate(arr):\n",
    "            if int(num) == 1:\n",
    "                print('예측값 : %d' % j)"
   ]
  }
 ],
 "metadata": {
  "kernelspec": {
   "display_name": "Python 3 (ipykernel)",
   "language": "python",
   "name": "python3"
  },
  "language_info": {
   "codemirror_mode": {
    "name": "ipython",
    "version": 3
   },
   "file_extension": ".py",
   "mimetype": "text/x-python",
   "name": "python",
   "nbconvert_exporter": "python",
   "pygments_lexer": "ipython3",
   "version": "3.10.2"
  }
 },
 "nbformat": 4,
 "nbformat_minor": 5
}
