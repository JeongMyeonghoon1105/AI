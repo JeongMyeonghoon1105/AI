{
 "cells": [
  {
   "cell_type": "markdown",
   "id": "be3f18d0",
   "metadata": {},
   "source": [
    "# 12. 가중치 불러오기\n",
    "* 학습이 이상적으로 진행되었을 때, 추후 재사용하기 위해 모델의 가중치를 저장\n",
    "* 저장한 가중치를 불러와 사용 가능"
   ]
  },
  {
   "cell_type": "code",
   "execution_count": 14,
   "id": "c3a80052",
   "metadata": {},
   "outputs": [],
   "source": [
    "import tensorflow as tf\n",
    "import pandas as pd\n",
    "import numpy as np\n",
    "import cv2\n",
    "from keras.models import load_model\n",
    "tf.compat.v1.disable_eager_execution()"
   ]
  },
  {
   "cell_type": "code",
   "execution_count": 15,
   "id": "9351aebc",
   "metadata": {},
   "outputs": [],
   "source": [
    "import warnings\n",
    "warnings.filterwarnings(action = 'ignore')"
   ]
  },
  {
   "cell_type": "markdown",
   "id": "094c7166",
   "metadata": {},
   "source": [
    "## 데이터 준비"
   ]
  },
  {
   "cell_type": "code",
   "execution_count": 16,
   "id": "23d65ac7",
   "metadata": {},
   "outputs": [
    {
     "name": "stdout",
     "output_type": "stream",
     "text": [
      "이미지 로드 완료.\n"
     ]
    }
   ],
   "source": [
    "x = []\n",
    "y = []\n",
    "\n",
    "for i in range(0, 10):\n",
    "    for j in range(0, 30):\n",
    "        path = 'CNN/Train/Original.jpg'\n",
    "        x.append(np.resize(cv2.imread(path, cv2.IMREAD_COLOR), (216, 215, 3)))\n",
    "\n",
    "    for j in range(60, 90):\n",
    "        path = 'CNN/Train/Star' + str(j + 1) + '.jpg'\n",
    "        x.append(np.resize(cv2.imread(path, cv2.IMREAD_COLOR), (216, 215, 3)))\n",
    "\n",
    "for i in range(0, 10):\n",
    "    for j in range(0, 30):\n",
    "        y.append(0)\n",
    "    for j in range(0, 30):\n",
    "        y.append(1)\n",
    "\n",
    "x = np.array(x)\n",
    "y = np.array(y)\n",
    "\n",
    "print('이미지 로드 완료.')"
   ]
  },
  {
   "cell_type": "markdown",
   "id": "2149e8c6",
   "metadata": {},
   "source": [
    "## 모델 구성 및 가중치 로드"
   ]
  },
  {
   "cell_type": "code",
   "execution_count": 17,
   "id": "2c84a2e8",
   "metadata": {},
   "outputs": [
    {
     "data": {
      "text/plain": [
       "<tensorflow.python.training.tracking.util.CheckpointLoadStatus at 0x153493040>"
      ]
     },
     "execution_count": 17,
     "metadata": {},
     "output_type": "execute_result"
    }
   ],
   "source": [
    "loaded_model = tf.keras.models.Sequential([\n",
    "    tf.keras.layers.Conv2D(32, kernel_size=(3, 3), activation='relu', input_shape=(216, 215, 3)),\n",
    "    tf.keras.layers.MaxPooling2D(pool_size=(2, 2)),\n",
    "    tf.keras.layers.Conv2D(32, kernel_size=(3, 3), activation='relu', input_shape=(216, 215, 3)),\n",
    "    tf.keras.layers.MaxPooling2D(pool_size=(2, 2)),\n",
    "    tf.keras.layers.Flatten(),\n",
    "    tf.keras.layers.Dense(256, activation='relu'),\n",
    "    tf.keras.layers.Dense(2, activation='softmax')\n",
    "])\n",
    "\n",
    "loaded_model.load_weights('CNN/Model/model')"
   ]
  },
  {
   "cell_type": "markdown",
   "id": "1b44a8f2",
   "metadata": {},
   "source": [
    "## 예측 결과 출력"
   ]
  },
  {
   "cell_type": "code",
   "execution_count": 20,
   "id": "0166962b",
   "metadata": {},
   "outputs": [
    {
     "name": "stdout",
     "output_type": "stream",
     "text": [
      "[0.04979501 0.95020497]\n",
      "\n",
      "별 모양의 불량이 감지되었습니다.\n"
     ]
    }
   ],
   "source": [
    "img = np.resize(cv2.imread('CNN/Test/Star.jpg', cv2.IMREAD_COLOR), (216, 215, 3))\n",
    "\n",
    "inputData = []\n",
    "inputData.append(img)\n",
    "\n",
    "for array in loaded_model.predict(np.array(inputData)):\n",
    "    arr = array\n",
    "\n",
    "print(arr)\n",
    "\n",
    "maxScore = max(arr)\n",
    "\n",
    "for index, score in enumerate(arr):\n",
    "    if score == maxScore:\n",
    "        result = index\n",
    "\n",
    "if result == 0:\n",
    "    print('\\n정상 이미지입니다.')\n",
    "else:\n",
    "    print('\\n별 모양의 불량이 감지되었습니다.')"
   ]
  }
 ],
 "metadata": {
  "kernelspec": {
   "display_name": "Python 3 (ipykernel)",
   "language": "python",
   "name": "python3"
  },
  "language_info": {
   "codemirror_mode": {
    "name": "ipython",
    "version": 3
   },
   "file_extension": ".py",
   "mimetype": "text/x-python",
   "name": "python",
   "nbconvert_exporter": "python",
   "pygments_lexer": "ipython3",
   "version": "3.10.2"
  }
 },
 "nbformat": 4,
 "nbformat_minor": 5
}
