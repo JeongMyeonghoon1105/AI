{
 "cells": [
  {
   "cell_type": "markdown",
   "id": "0a80b3bf",
   "metadata": {},
   "source": [
    "# 3. Placeholder\n",
    "\n",
    "* 학습 데이터를 포함하는 변수\n",
    "* 다른 Tensor를 할당하기 위해 사용\n",
    "* 함수의 입력값과 유사한 개념"
   ]
  },
  {
   "cell_type": "code",
   "execution_count": 2,
   "id": "caf86723",
   "metadata": {},
   "outputs": [],
   "source": [
    "import tensorflow as tf\n",
    "tf.compat.v1.disable_eager_execution()"
   ]
  },
  {
   "cell_type": "code",
   "execution_count": 10,
   "id": "5dcb6ccc",
   "metadata": {},
   "outputs": [
    {
     "name": "stdout",
     "output_type": "stream",
     "text": [
      "[ 6  7  8  9 10]\n"
     ]
    }
   ],
   "source": [
    "input = [1, 2, 3, 4, 5]\n",
    "\n",
    "# x를 Placeholder로 정의\n",
    "x = tf.compat.v1.placeholder(dtype = tf.float32)\n",
    "\n",
    "# 실행할 연산 정의\n",
    "y = x + 5\n",
    "\n",
    "# Session 객체 생성\n",
    "sess = tf.compat.v1.Session()\n",
    "\n",
    "# Feeding 작업 수행\n",
    "print(sess.run(y, feed_dict = {x : input}))"
   ]
  },
  {
   "cell_type": "code",
   "execution_count": 11,
   "id": "423dfa0f",
   "metadata": {},
   "outputs": [
    {
     "name": "stdout",
     "output_type": "stream",
     "text": [
      "[87.5 90.  80.  95.  95. ]\n"
     ]
    }
   ],
   "source": [
    "mathScore = [85, 90, 75, 95, 100]\n",
    "englishScore = [90, 90, 85, 95, 90]\n",
    "\n",
    "a = tf.compat.v1.placeholder(dtype = tf.float32)\n",
    "b = tf.compat.v1.placeholder(dtype = tf.float32)\n",
    "\n",
    "y = (a + b)/2\n",
    "\n",
    "sess = tf.compat.v1.Session()\n",
    "\n",
    "print(sess.run(y, feed_dict = {a : mathScore, b : englishScore}))"
   ]
  }
 ],
 "metadata": {
  "kernelspec": {
   "display_name": "Python 3 (ipykernel)",
   "language": "python",
   "name": "python3"
  },
  "language_info": {
   "codemirror_mode": {
    "name": "ipython",
    "version": 3
   },
   "file_extension": ".py",
   "mimetype": "text/x-python",
   "name": "python",
   "nbconvert_exporter": "python",
   "pygments_lexer": "ipython3",
   "version": "3.10.2"
  }
 },
 "nbformat": 4,
 "nbformat_minor": 5
}
