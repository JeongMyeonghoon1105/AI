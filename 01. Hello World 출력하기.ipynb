{
 "cells": [
  {
   "cell_type": "markdown",
   "id": "4a612324",
   "metadata": {},
   "source": [
    "# 1. Hello World 출력하기\n",
    "\n",
    "출력된 문자열 옆의 b는 문자열의 자료형이 byte 문자열이라는 뜻."
   ]
  },
  {
   "cell_type": "markdown",
   "id": "bbfae497",
   "metadata": {},
   "source": [
    "> pip3 install tensorflow"
   ]
  },
  {
   "cell_type": "code",
   "execution_count": 18,
   "id": "80783026",
   "metadata": {},
   "outputs": [
    {
     "name": "stdout",
     "output_type": "stream",
     "text": [
      "b'Hello World'\n"
     ]
    }
   ],
   "source": [
    "import tensorflow as tf\n",
    "tf.compat.v1.disable_eager_execution()\n",
    "\n",
    "a = tf.constant('Hello World')\n",
    "\n",
    "sess = tf.compat.v1.Session()\n",
    "print(sess.run(a))"
   ]
  },
  {
   "cell_type": "code",
   "execution_count": 2,
   "id": "4dd24bb8",
   "metadata": {},
   "outputs": [
    {
     "name": "stdout",
     "output_type": "stream",
     "text": [
      "Hello World\n"
     ]
    }
   ],
   "source": [
    "import tensorflow as tf\n",
    "tf.compat.v1.disable_eager_execution()\n",
    "\n",
    "a = 'Hello World'\n",
    "x = tf.compat.v1.placeholder(dtype = tf.string)\n",
    "\n",
    "sess = tf.compat.v1.Session()\n",
    "print(sess.run(x, feed_dict = {x : a}))"
   ]
  }
 ],
 "metadata": {
  "kernelspec": {
   "display_name": "Python 3 (ipykernel)",
   "language": "python",
   "name": "python3"
  },
  "language_info": {
   "codemirror_mode": {
    "name": "ipython",
    "version": 3
   },
   "file_extension": ".py",
   "mimetype": "text/x-python",
   "name": "python",
   "nbconvert_exporter": "python",
   "pygments_lexer": "ipython3",
   "version": "3.10.2"
  }
 },
 "nbformat": 4,
 "nbformat_minor": 5
}
