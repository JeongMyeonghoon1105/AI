{
 "cells": [
  {
   "cell_type": "markdown",
   "id": "7236cd9e",
   "metadata": {},
   "source": [
    "# 4. 주요 함수"
   ]
  },
  {
   "cell_type": "code",
   "execution_count": 6,
   "id": "47520501",
   "metadata": {},
   "outputs": [],
   "source": [
    "import tensorflow as tf\n",
    "tf.compat.v1.disable_eager_execution()"
   ]
  },
  {
   "cell_type": "markdown",
   "id": "6f41daa7",
   "metadata": {},
   "source": [
    "## 덧셈 함수"
   ]
  },
  {
   "cell_type": "code",
   "execution_count": 8,
   "id": "f6679245",
   "metadata": {},
   "outputs": [
    {
     "name": "stdout",
     "output_type": "stream",
     "text": [
      "21\n"
     ]
    }
   ],
   "source": [
    "a = tf.constant(10)\n",
    "b = tf.constant(11)\n",
    "c = tf.add(a, b)\n",
    "\n",
    "sess = tf.compat.v1.Session()\n",
    "print(sess.run(c))"
   ]
  },
  {
   "cell_type": "markdown",
   "id": "59f49058",
   "metadata": {},
   "source": [
    "## 뺄셈 함수"
   ]
  },
  {
   "cell_type": "code",
   "execution_count": 9,
   "id": "98af9a4f",
   "metadata": {},
   "outputs": [
    {
     "name": "stdout",
     "output_type": "stream",
     "text": [
      "-1\n"
     ]
    }
   ],
   "source": [
    "a = tf.constant(10)\n",
    "b = tf.constant(11)\n",
    "c = tf.subtract(a, b)\n",
    "\n",
    "sess = tf.compat.v1.Session()\n",
    "print(sess.run(c))"
   ]
  },
  {
   "cell_type": "markdown",
   "id": "54418a6a",
   "metadata": {},
   "source": [
    "## 곱셈 함수"
   ]
  },
  {
   "cell_type": "code",
   "execution_count": 10,
   "id": "5d271c42",
   "metadata": {},
   "outputs": [
    {
     "name": "stdout",
     "output_type": "stream",
     "text": [
      "110\n"
     ]
    }
   ],
   "source": [
    "a = tf.constant(10)\n",
    "b = tf.constant(11)\n",
    "c = tf.multiply(a, b)\n",
    "\n",
    "sess = tf.compat.v1.Session()\n",
    "print(sess.run(c))"
   ]
  },
  {
   "cell_type": "markdown",
   "id": "05053fe0",
   "metadata": {},
   "source": [
    "## 나눗셈의 몫 구하는 함수"
   ]
  },
  {
   "cell_type": "code",
   "execution_count": 12,
   "id": "d31d0953",
   "metadata": {},
   "outputs": [
    {
     "name": "stdout",
     "output_type": "stream",
     "text": [
      "12.5\n"
     ]
    }
   ],
   "source": [
    "a = tf.constant(50)\n",
    "b = tf.constant(4)\n",
    "c = tf.truediv(a, b)\n",
    "\n",
    "sess = tf.compat.v1.Session()\n",
    "print(sess.run(c))"
   ]
  },
  {
   "cell_type": "markdown",
   "id": "c35dc8eb",
   "metadata": {},
   "source": [
    "## 거듭제곱 계산 함수"
   ]
  },
  {
   "cell_type": "code",
   "execution_count": 18,
   "id": "1aa2b34a",
   "metadata": {},
   "outputs": [
    {
     "name": "stdout",
     "output_type": "stream",
     "text": [
      "144\n"
     ]
    }
   ],
   "source": [
    "a = tf.constant(12)\n",
    "b = tf.constant(2)\n",
    "c = tf.pow(a, b)\n",
    "\n",
    "sess = tf.compat.v1.Session()\n",
    "print(sess.run(c))"
   ]
  },
  {
   "cell_type": "markdown",
   "id": "1a10909e",
   "metadata": {},
   "source": [
    "## 절댓값 함수"
   ]
  },
  {
   "cell_type": "code",
   "execution_count": 19,
   "id": "c571af61",
   "metadata": {},
   "outputs": [
    {
     "name": "stdout",
     "output_type": "stream",
     "text": [
      "12\n"
     ]
    }
   ],
   "source": [
    "a = tf.constant(-12)\n",
    "b = tf.abs(a)\n",
    "\n",
    "sess = tf.compat.v1.Session()\n",
    "print(sess.run(b))"
   ]
  }
 ],
 "metadata": {
  "kernelspec": {
   "display_name": "Python 3 (ipykernel)",
   "language": "python",
   "name": "python3"
  },
  "language_info": {
   "codemirror_mode": {
    "name": "ipython",
    "version": 3
   },
   "file_extension": ".py",
   "mimetype": "text/x-python",
   "name": "python",
   "nbconvert_exporter": "python",
   "pygments_lexer": "ipython3",
   "version": "3.10.2"
  }
 },
 "nbformat": 4,
 "nbformat_minor": 5
}
